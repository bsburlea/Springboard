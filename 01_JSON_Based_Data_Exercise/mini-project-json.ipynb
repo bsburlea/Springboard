{
 "cells": [
  {
   "cell_type": "markdown",
   "metadata": {},
   "source": [
    "****\n",
    "## JSON exercise\n",
    "\n",
    "Using data in file 'data/world_bank_projects.json' and the techniques demonstrated above,\n",
    "1. Find the 10 countries with most projects\n",
    "2. Find the top 10 major project themes (using column 'mjtheme_namecode')\n",
    "3. In 2. above you will notice that some entries have only the code and the name is missing. Create a dataframe with the missing names filled in."
   ]
  },
  {
   "cell_type": "code",
   "execution_count": 359,
   "metadata": {},
   "outputs": [],
   "source": [
    "import pandas as pd\n",
    "import json\n",
    "from pandas.io.json import json_normalize"
   ]
  },
  {
   "cell_type": "code",
   "execution_count": 360,
   "metadata": {},
   "outputs": [],
   "source": [
    "json_df = pd.read_json('data/world_bank_projects.json')"
   ]
  },
  {
   "cell_type": "code",
   "execution_count": 361,
   "metadata": {},
   "outputs": [
    {
     "data": {
      "text/plain": [
       "CN    19\n",
       "ID    19\n",
       "VN    17\n",
       "IN    16\n",
       "RY    13\n",
       "NP    12\n",
       "BD    12\n",
       "MA    12\n",
       "MZ    11\n",
       "3A    11\n",
       "Name: countrycode, dtype: int64"
      ]
     },
     "execution_count": 361,
     "metadata": {},
     "output_type": "execute_result"
    }
   ],
   "source": [
    "#the 10 countries with most projects:\n",
    "json_df['countrycode'].value_counts().head(10)"
   ]
  },
  {
   "cell_type": "code",
   "execution_count": null,
   "metadata": {},
   "outputs": [],
   "source": []
  },
  {
   "cell_type": "code",
   "execution_count": null,
   "metadata": {},
   "outputs": [],
   "source": []
  },
  {
   "cell_type": "code",
   "execution_count": null,
   "metadata": {},
   "outputs": [],
   "source": []
  },
  {
   "cell_type": "code",
   "execution_count": null,
   "metadata": {},
   "outputs": [],
   "source": []
  },
  {
   "cell_type": "code",
   "execution_count": null,
   "metadata": {},
   "outputs": [],
   "source": []
  },
  {
   "cell_type": "code",
   "execution_count": 362,
   "metadata": {},
   "outputs": [],
   "source": [
    "#Find the top 10 major project themes (using column 'mjtheme_namecode')\n",
    "my_list=[]\n",
    "for my_item in json_df['mjtheme_namecode']:\n",
    "    my_list.append(my_item)"
   ]
  },
  {
   "cell_type": "code",
   "execution_count": 363,
   "metadata": {},
   "outputs": [
    {
     "data": {
      "text/plain": [
       "[[{'code': '8', 'name': 'Human development'}, {'code': '11', 'name': ''}],\n",
       " [{'code': '1', 'name': 'Economic management'},\n",
       "  {'code': '6', 'name': 'Social protection and risk management'}],\n",
       " [{'code': '5', 'name': 'Trade and integration'},\n",
       "  {'code': '2', 'name': 'Public sector governance'},\n",
       "  {'code': '11', 'name': 'Environment and natural resources management'},\n",
       "  {'code': '6', 'name': 'Social protection and risk management'}],\n",
       " [{'code': '7', 'name': 'Social dev/gender/inclusion'},\n",
       "  {'code': '7', 'name': 'Social dev/gender/inclusion'}],\n",
       " [{'code': '5', 'name': 'Trade and integration'},\n",
       "  {'code': '4', 'name': 'Financial and private sector development'}],\n",
       " [{'code': '6', 'name': 'Social protection and risk management'},\n",
       "  {'code': '6', 'name': ''}],\n",
       " [{'code': '2', 'name': 'Public sector governance'},\n",
       "  {'code': '4', 'name': 'Financial and private sector development'}],\n",
       " [{'code': '11', 'name': 'Environment and natural resources management'},\n",
       "  {'code': '8', 'name': ''}],\n",
       " [{'code': '10', 'name': 'Rural development'}, {'code': '7', 'name': ''}],\n",
       " [{'code': '2', 'name': 'Public sector governance'},\n",
       "  {'code': '2', 'name': 'Public sector governance'},\n",
       "  {'code': '2', 'name': 'Public sector governance'}],\n",
       " [{'code': '10', 'name': 'Rural development'}, {'code': '2', 'name': ''}]]"
      ]
     },
     "execution_count": 363,
     "metadata": {},
     "output_type": "execute_result"
    }
   ],
   "source": [
    "my_list[:11]"
   ]
  },
  {
   "cell_type": "code",
   "execution_count": 364,
   "metadata": {},
   "outputs": [],
   "source": [
    "# old code:\n",
    "#new_list=[]\n",
    "#for my_item in my_list:\n",
    "#    for my_dict in my_item:\n",
    "#        new_list.append(my_dict)"
   ]
  },
  {
   "cell_type": "code",
   "execution_count": 365,
   "metadata": {},
   "outputs": [],
   "source": [
    "# new code\n",
    "# get a flat list of dictionaries\n",
    "very_new_list = [item for sublist in my_list for item in sublist]"
   ]
  },
  {
   "cell_type": "code",
   "execution_count": 366,
   "metadata": {},
   "outputs": [
    {
     "data": {
      "text/plain": [
       "[{'code': '8', 'name': 'Human development'},\n",
       " {'code': '11', 'name': ''},\n",
       " {'code': '1', 'name': 'Economic management'},\n",
       " {'code': '6', 'name': 'Social protection and risk management'},\n",
       " {'code': '5', 'name': 'Trade and integration'},\n",
       " {'code': '2', 'name': 'Public sector governance'},\n",
       " {'code': '11', 'name': 'Environment and natural resources management'},\n",
       " {'code': '6', 'name': 'Social protection and risk management'},\n",
       " {'code': '7', 'name': 'Social dev/gender/inclusion'},\n",
       " {'code': '7', 'name': 'Social dev/gender/inclusion'},\n",
       " {'code': '5', 'name': 'Trade and integration'},\n",
       " {'code': '4', 'name': 'Financial and private sector development'},\n",
       " {'code': '6', 'name': 'Social protection and risk management'},\n",
       " {'code': '6', 'name': ''},\n",
       " {'code': '2', 'name': 'Public sector governance'}]"
      ]
     },
     "execution_count": 366,
     "metadata": {},
     "output_type": "execute_result"
    }
   ],
   "source": [
    "very_new_list[:15]"
   ]
  },
  {
   "cell_type": "code",
   "execution_count": 367,
   "metadata": {},
   "outputs": [
    {
     "name": "stdout",
     "output_type": "stream",
     "text": [
      "[(223, 'Environment and natural resources management'), (202, 'Rural development'), (197, 'Human development'), (184, 'Public sector governance'), (158, 'Social protection and risk management'), (130, 'Financial and private sector development'), (122, ''), (119, 'Social dev/gender/inclusion'), (72, 'Trade and integration'), (47, 'Urban development')]\n"
     ]
    }
   ],
   "source": [
    "from collections import defaultdict\n",
    "my_dict={}\n",
    "for item in very_new_list:\n",
    "    if not item.get('name') in my_dict:\n",
    "        my_dict[item.get('name')]=0\n",
    "    my_dict[item.get('name')] += 1\n",
    "\n",
    "print(sorted(((value,key) for (key,value) in my_dict.items()), reverse=True)[:10])"
   ]
  },
  {
   "cell_type": "code",
   "execution_count": null,
   "metadata": {},
   "outputs": [],
   "source": []
  },
  {
   "cell_type": "code",
   "execution_count": null,
   "metadata": {},
   "outputs": [],
   "source": []
  },
  {
   "cell_type": "code",
   "execution_count": null,
   "metadata": {},
   "outputs": [],
   "source": []
  },
  {
   "cell_type": "code",
   "execution_count": null,
   "metadata": {},
   "outputs": [],
   "source": []
  },
  {
   "cell_type": "markdown",
   "metadata": {},
   "source": [
    "In 2. above you will notice that some entries have only the code and the name is missing.\n",
    "Create a dataframe with the missing names filled in.\n",
    "\n",
    "The new dataframe is json_copy_df"
   ]
  },
  {
   "cell_type": "code",
   "execution_count": 368,
   "metadata": {},
   "outputs": [],
   "source": [
    "json_copy_df = json_df.copy()"
   ]
  },
  {
   "cell_type": "code",
   "execution_count": 369,
   "metadata": {},
   "outputs": [],
   "source": [
    "# get the correct values for each code, ignore null strings\n",
    "# use original dataframe, with null strings\n",
    "small_dict={}\n",
    "for item in very_new_list:\n",
    "    if len(item.get('name'))>0:\n",
    "        small_dict[item.get('code')]=item.get('name')"
   ]
  },
  {
   "cell_type": "code",
   "execution_count": 370,
   "metadata": {},
   "outputs": [
    {
     "data": {
      "text/plain": [
       "{'8': 'Human development',\n",
       " '1': 'Economic management',\n",
       " '6': 'Social protection and risk management',\n",
       " '5': 'Trade and integration',\n",
       " '2': 'Public sector governance',\n",
       " '11': 'Environment and natural resources management',\n",
       " '7': 'Social dev/gender/inclusion',\n",
       " '4': 'Financial and private sector development',\n",
       " '10': 'Rural development',\n",
       " '9': 'Urban development',\n",
       " '3': 'Rule of law'}"
      ]
     },
     "execution_count": 370,
     "metadata": {},
     "output_type": "execute_result"
    }
   ],
   "source": [
    "small_dict"
   ]
  },
  {
   "cell_type": "code",
   "execution_count": 371,
   "metadata": {},
   "outputs": [
    {
     "data": {
      "text/plain": [
       "[{'code': '10', 'name': 'Rural development'}, {'code': '2', 'name': ''}]"
      ]
     },
     "execution_count": 371,
     "metadata": {},
     "output_type": "execute_result"
    }
   ],
   "source": [
    "# find a null value and check how it is modified later on\n",
    "json_df['mjtheme_namecode'][10]"
   ]
  },
  {
   "cell_type": "code",
   "execution_count": 372,
   "metadata": {},
   "outputs": [],
   "source": [
    "for one_more_list in json_copy_df['mjtheme_namecode']:\n",
    "    for second_dict in one_more_list:\n",
    "        if len(second_dict.get('name'))==0:\n",
    "            second_dict['name']=small_dict[second_dict.get('code')]"
   ]
  },
  {
   "cell_type": "code",
   "execution_count": 373,
   "metadata": {},
   "outputs": [
    {
     "data": {
      "text/plain": [
       "[{'code': '10', 'name': 'Rural development'},\n",
       " {'code': '2', 'name': 'Public sector governance'}]"
      ]
     },
     "execution_count": 373,
     "metadata": {},
     "output_type": "execute_result"
    }
   ],
   "source": [
    "# it looks like everything is ok!\n",
    "json_df['mjtheme_namecode'][10]"
   ]
  },
  {
   "cell_type": "code",
   "execution_count": null,
   "metadata": {},
   "outputs": [],
   "source": []
  },
  {
   "cell_type": "code",
   "execution_count": null,
   "metadata": {},
   "outputs": [],
   "source": []
  },
  {
   "cell_type": "markdown",
   "metadata": {},
   "source": [
    "However, the list for the top 10 major project themes included a '' project (before processing the copied dataframe)\n",
    "There is one more thing to do, to run again the count for the 10 projects and check id the '' projects are gone"
   ]
  },
  {
   "cell_type": "code",
   "execution_count": 374,
   "metadata": {},
   "outputs": [
    {
     "name": "stdout",
     "output_type": "stream",
     "text": [
      "[(250, 'Environment and natural resources management'), (216, 'Rural development'), (210, 'Human development'), (199, 'Public sector governance'), (168, 'Social protection and risk management'), (146, 'Financial and private sector development'), (130, 'Social dev/gender/inclusion'), (77, 'Trade and integration'), (50, 'Urban development'), (38, 'Economic management')]\n"
     ]
    }
   ],
   "source": [
    "my_list=[]\n",
    "for my_item in json_copy_df['mjtheme_namecode']:\n",
    "    my_list.append(my_item)\n",
    "    \n",
    "very_new_list = [item for sublist in my_list for item in sublist]\n",
    "    \n",
    "my_dict={}\n",
    "for item in very_new_list:\n",
    "    if not item.get('name') in my_dict:\n",
    "        my_dict[item.get('name')]=0\n",
    "    my_dict[item.get('name')] += 1\n",
    "\n",
    "print(sorted(((value,key) for (key,value) in my_dict.items()), reverse=True)[:10])"
   ]
  },
  {
   "cell_type": "code",
   "execution_count": null,
   "metadata": {},
   "outputs": [],
   "source": []
  },
  {
   "cell_type": "markdown",
   "metadata": {},
   "source": [
    "PS I did not understand how to properly use json_normalize so I have chosen the hard way... I am sure that the solution is very simple. I'd like to see the simple solution!\n",
    "Thanks"
   ]
  },
  {
   "cell_type": "code",
   "execution_count": null,
   "metadata": {},
   "outputs": [],
   "source": []
  },
  {
   "cell_type": "code",
   "execution_count": null,
   "metadata": {},
   "outputs": [],
   "source": []
  }
 ],
 "metadata": {
  "kernelspec": {
   "display_name": "Python 3",
   "language": "python",
   "name": "python3"
  },
  "language_info": {
   "codemirror_mode": {
    "name": "ipython",
    "version": 3
   },
   "file_extension": ".py",
   "mimetype": "text/x-python",
   "name": "python",
   "nbconvert_exporter": "python",
   "pygments_lexer": "ipython3",
   "version": "3.7.3"
  }
 },
 "nbformat": 4,
 "nbformat_minor": 1
}
